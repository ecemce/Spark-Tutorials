{
 "cells": [
  {
   "cell_type": "code",
   "execution_count": 1,
   "metadata": {},
   "outputs": [],
   "source": [
    "from pyspark import SparkContext , SparkConf\n",
    "from pyspark.sql import SparkSession\n",
    "from pyspark.rdd import RDD"
   ]
  },
  {
   "cell_type": "code",
   "execution_count": 2,
   "metadata": {},
   "outputs": [],
   "source": [
    "sc=SparkContext.getOrCreate(SparkConf().setMaster(\"local[*]\"))"
   ]
  },
  {
   "cell_type": "code",
   "execution_count": 3,
   "metadata": {},
   "outputs": [],
   "source": [
    "# Parse a line of weather station data, returning the average wind direction measurement \n",
    "import re\n",
    "def parse(line):\n",
    "    match = re.search(\"Dm=(\\d+)\", line)\n",
    "    if match:\n",
    "        val = match.group(1)\n",
    "        return [int(val)]\n",
    "    return []"
   ]
  },
  {
   "cell_type": "code",
   "execution_count": 4,
   "metadata": {},
   "outputs": [],
   "source": [
    "from pyspark.streaming import StreamingContext\n",
    "ssc = StreamingContext(sc,1)"
   ]
  },
  {
   "cell_type": "code",
   "execution_count": 5,
   "metadata": {},
   "outputs": [],
   "source": [
    "# The High Performance Wireless Research and Education Network (HPWREN), a University of \n",
    "# California San Diego partnership project led by the San Diego Supercomputer Center and the Scripps Institution \n",
    "# of Oceanography's Institute of Geophysics and Planetary Physics, supports Internet-data applications in the \n",
    "# research, education, and public safety realms.\n",
    "\n",
    "lines = ssc.socketTextStream(\"rtd.hpwren.ucsd.edu\", 12028)"
   ]
  },
  {
   "cell_type": "code",
   "execution_count": 6,
   "metadata": {},
   "outputs": [],
   "source": [
    "vals = lines.flatMap(parse)"
   ]
  },
  {
   "cell_type": "code",
   "execution_count": 7,
   "metadata": {},
   "outputs": [],
   "source": [
    "window = vals.window(10, 5)"
   ]
  },
  {
   "cell_type": "code",
   "execution_count": 8,
   "metadata": {},
   "outputs": [],
   "source": [
    "def stats(rdd):\n",
    "    print(rdd.collect())\n",
    "    if rdd.count() > 0:\n",
    "        print(\"max = {}, min = {}\".format(rdd.max(), rdd.min()))"
   ]
  },
  {
   "cell_type": "code",
   "execution_count": 9,
   "metadata": {},
   "outputs": [],
   "source": [
    "window.foreachRDD(lambda rdd: stats(rdd))"
   ]
  },
  {
   "cell_type": "code",
   "execution_count": 10,
   "metadata": {},
   "outputs": [
    {
     "name": "stdout",
     "output_type": "stream",
     "text": [
      "[]\n",
      "[111, 106, 105]\n",
      "max = 111, min = 105\n",
      "[111, 106, 105, 99, 98, 98, 98, 97, 97]\n",
      "max = 111, min = 97\n",
      "[99, 98, 98, 98, 97, 97, 97, 97, 97, 97, 97]\n",
      "max = 99, min = 97\n",
      "[97, 97, 97, 97, 97, 97, 97, 97, 97, 97]\n",
      "max = 97, min = 97\n",
      "[97, 97, 97, 97, 97, 111, 110, 110, 111, 107]\n",
      "max = 111, min = 97\n",
      "[111, 110, 110, 111, 107, 103, 98, 96, 93, 93]\n",
      "max = 111, min = 93\n",
      "[103, 98, 96, 93, 93, 91, 96, 96, 96, 96]\n",
      "max = 103, min = 91\n"
     ]
    }
   ],
   "source": [
    "ssc.start()"
   ]
  },
  {
   "cell_type": "code",
   "execution_count": 11,
   "metadata": {},
   "outputs": [],
   "source": [
    "ssc.stop()"
   ]
  }
 ],
 "metadata": {
  "kernelspec": {
   "display_name": "Python 3",
   "language": "python",
   "name": "python3"
  },
  "language_info": {
   "codemirror_mode": {
    "name": "ipython",
    "version": 3
   },
   "file_extension": ".py",
   "mimetype": "text/x-python",
   "name": "python",
   "nbconvert_exporter": "python",
   "pygments_lexer": "ipython3",
   "version": "3.8.3"
  }
 },
 "nbformat": 4,
 "nbformat_minor": 4
}
